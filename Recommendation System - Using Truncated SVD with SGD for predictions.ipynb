{
 "cells": [
  {
   "cell_type": "markdown",
   "metadata": {
    "id": "YeM0ZBWUVtXR"
   },
   "source": [
    "# SGD Algorithm to predict movie ratings"
   ]
  },
  {
   "cell_type": "code",
   "execution_count": 1,
   "metadata": {
    "colab": {
     "base_uri": "https://localhost:8080/"
    },
    "executionInfo": {
     "elapsed": 21709,
     "status": "ok",
     "timestamp": 1624114817003,
     "user": {
      "displayName": "Preeti Chouhan",
      "photoUrl": "https://lh3.googleusercontent.com/a-/AOh14Gjh3PF7bbZ1quRahFQ2iiw9kMMGvrfX248LWGcGfQ=s64",
      "userId": "02169290060510503265"
     },
     "user_tz": -330
    },
    "id": "gwtjgRkgbkn1",
    "outputId": "d6679457-5b0e-4c18-aff3-e8a2f9954faa"
   },
   "outputs": [
    {
     "name": "stdout",
     "output_type": "stream",
     "text": [
      "Mounted at /content/drive\n"
     ]
    }
   ],
   "source": [
    "from google.colab import drive\n",
    "drive.mount('/content/drive')"
   ]
  },
  {
   "cell_type": "code",
   "execution_count": 2,
   "metadata": {
    "executionInfo": {
     "elapsed": 7,
     "status": "ok",
     "timestamp": 1624114821760,
     "user": {
      "displayName": "Preeti Chouhan",
      "photoUrl": "https://lh3.googleusercontent.com/a-/AOh14Gjh3PF7bbZ1quRahFQ2iiw9kMMGvrfX248LWGcGfQ=s64",
      "userId": "02169290060510503265"
     },
     "user_tz": -330
    },
    "id": "TJRnnpTIoIww"
   },
   "outputs": [],
   "source": [
    "import pandas as pd\n",
    "import numpy as np\n",
    "import matplotlib.pyplot as plt\n",
    "\n",
    "from sklearn.linear_model import SGDClassifier\n",
    "from scipy.sparse import csr_matrix\n",
    "from sklearn.utils.extmath import randomized_svd\n",
    "from sklearn.metrics import mean_squared_error\n",
    "from sklearn.preprocessing import Normalizer"
   ]
  },
  {
   "cell_type": "code",
   "execution_count": 3,
   "metadata": {
    "colab": {
     "base_uri": "https://localhost:8080/",
     "height": 197
    },
    "executionInfo": {
     "elapsed": 4967,
     "status": "ok",
     "timestamp": 1624114827793,
     "user": {
      "displayName": "Preeti Chouhan",
      "photoUrl": "https://lh3.googleusercontent.com/a-/AOh14Gjh3PF7bbZ1quRahFQ2iiw9kMMGvrfX248LWGcGfQ=s64",
      "userId": "02169290060510503265"
     },
     "user_tz": -330
    },
    "id": "hEhmfRD637EW",
    "outputId": "2f050c16-2d9a-4270-a4dd-75831cb0e1c8"
   },
   "outputs": [
    {
     "data": {
      "text/html": [
       "<div>\n",
       "<style scoped>\n",
       "    .dataframe tbody tr th:only-of-type {\n",
       "        vertical-align: middle;\n",
       "    }\n",
       "\n",
       "    .dataframe tbody tr th {\n",
       "        vertical-align: top;\n",
       "    }\n",
       "\n",
       "    .dataframe thead th {\n",
       "        text-align: right;\n",
       "    }\n",
       "</style>\n",
       "<table border=\"1\" class=\"dataframe\">\n",
       "  <thead>\n",
       "    <tr style=\"text-align: right;\">\n",
       "      <th></th>\n",
       "      <th>user_id</th>\n",
       "      <th>item_id</th>\n",
       "      <th>rating</th>\n",
       "    </tr>\n",
       "  </thead>\n",
       "  <tbody>\n",
       "    <tr>\n",
       "      <th>0</th>\n",
       "      <td>772</td>\n",
       "      <td>36</td>\n",
       "      <td>3</td>\n",
       "    </tr>\n",
       "    <tr>\n",
       "      <th>1</th>\n",
       "      <td>471</td>\n",
       "      <td>228</td>\n",
       "      <td>5</td>\n",
       "    </tr>\n",
       "    <tr>\n",
       "      <th>2</th>\n",
       "      <td>641</td>\n",
       "      <td>401</td>\n",
       "      <td>4</td>\n",
       "    </tr>\n",
       "    <tr>\n",
       "      <th>3</th>\n",
       "      <td>312</td>\n",
       "      <td>98</td>\n",
       "      <td>4</td>\n",
       "    </tr>\n",
       "    <tr>\n",
       "      <th>4</th>\n",
       "      <td>58</td>\n",
       "      <td>504</td>\n",
       "      <td>5</td>\n",
       "    </tr>\n",
       "  </tbody>\n",
       "</table>\n",
       "</div>"
      ],
      "text/plain": [
       "   user_id  item_id  rating\n",
       "0      772       36       3\n",
       "1      471      228       5\n",
       "2      641      401       4\n",
       "3      312       98       4\n",
       "4       58      504       5"
      ]
     },
     "execution_count": 3,
     "metadata": {
      "tags": []
     },
     "output_type": "execute_result"
    }
   ],
   "source": [
    "data=pd.read_csv('ratings_train.csv')\n",
    "data.head()"
   ]
  },
  {
   "cell_type": "code",
   "execution_count": 4,
   "metadata": {
    "colab": {
     "base_uri": "https://localhost:8080/"
    },
    "executionInfo": {
     "elapsed": 19,
     "status": "ok",
     "timestamp": 1624114827794,
     "user": {
      "displayName": "Preeti Chouhan",
      "photoUrl": "https://lh3.googleusercontent.com/a-/AOh14Gjh3PF7bbZ1quRahFQ2iiw9kMMGvrfX248LWGcGfQ=s64",
      "userId": "02169290060510503265"
     },
     "user_tz": -330
    },
    "id": "66ibGJ74hCde",
    "outputId": "ec46f392-d65c-4a89-80ef-bcb3c610835f"
   },
   "outputs": [
    {
     "data": {
      "text/plain": [
       "(89992, 3)"
      ]
     },
     "execution_count": 4,
     "metadata": {
      "tags": []
     },
     "output_type": "execute_result"
    }
   ],
   "source": [
    "data.shape"
   ]
  },
  {
   "cell_type": "code",
   "execution_count": 5,
   "metadata": {
    "colab": {
     "base_uri": "https://localhost:8080/"
    },
    "executionInfo": {
     "elapsed": 13,
     "status": "ok",
     "timestamp": 1624114827795,
     "user": {
      "displayName": "Preeti Chouhan",
      "photoUrl": "https://lh3.googleusercontent.com/a-/AOh14Gjh3PF7bbZ1quRahFQ2iiw9kMMGvrfX248LWGcGfQ=s64",
      "userId": "02169290060510503265"
     },
     "user_tz": -330
    },
    "id": "bwHe3smr4Edl",
    "outputId": "3b1d5530-7c60-497a-b0c6-535167711610"
   },
   "outputs": [
    {
     "name": "stdout",
     "output_type": "stream",
     "text": [
      "Total no of ratings : 89992\n",
      "Total No of Users   : 943\n",
      "Total No of movies  : 1662\n"
     ]
    }
   ],
   "source": [
    "print(\"Total no of ratings :\", data.shape[0])\n",
    "print(\"Total No of Users   :\", len(np.unique(data['user_id'])))\n",
    "print(\"Total No of movies  :\", len(np.unique(data['item_id'])))"
   ]
  },
  {
   "cell_type": "markdown",
   "metadata": {
    "id": "mvB8SDS_hW03"
   },
   "source": [
    "**Create your adjacency matrix**"
   ]
  },
  {
   "cell_type": "code",
   "execution_count": 6,
   "metadata": {
    "executionInfo": {
     "elapsed": 12,
     "status": "ok",
     "timestamp": 1624114829648,
     "user": {
      "displayName": "Preeti Chouhan",
      "photoUrl": "https://lh3.googleusercontent.com/a-/AOh14Gjh3PF7bbZ1quRahFQ2iiw9kMMGvrfX248LWGcGfQ=s64",
      "userId": "02169290060510503265"
     },
     "user_tz": -330
    },
    "id": "t44MNT40hZQW"
   },
   "outputs": [],
   "source": [
    "#creating sparse matrix in form csr_matrix(data_values, (row_index, col_index), shape_of_matrix)\n",
    "adjacency_matrix = csr_matrix((data['rating'].values, ( data['user_id'].values, data['item_id'].values )),)"
   ]
  },
  {
   "cell_type": "code",
   "execution_count": 7,
   "metadata": {
    "colab": {
     "base_uri": "https://localhost:8080/"
    },
    "executionInfo": {
     "elapsed": 14,
     "status": "ok",
     "timestamp": 1624114832074,
     "user": {
      "displayName": "Preeti Chouhan",
      "photoUrl": "https://lh3.googleusercontent.com/a-/AOh14Gjh3PF7bbZ1quRahFQ2iiw9kMMGvrfX248LWGcGfQ=s64",
      "userId": "02169290060510503265"
     },
     "user_tz": -330
    },
    "id": "wd5bxGQlqp-S",
    "outputId": "8e50fdda-c3f8-47e9-a2f6-e6188e1d3626"
   },
   "outputs": [
    {
     "data": {
      "text/plain": [
       "(943, 1681)"
      ]
     },
     "execution_count": 7,
     "metadata": {
      "tags": []
     },
     "output_type": "execute_result"
    }
   ],
   "source": [
    "adjacency_matrix.shape"
   ]
  },
  {
   "cell_type": "markdown",
   "metadata": {
    "id": "ePDgwALQEJoB"
   },
   "source": [
    "**SVD Decompostion**"
   ]
  },
  {
   "cell_type": "code",
   "execution_count": null,
   "metadata": {},
   "outputs": [],
   "source": [
    "# Using adjacency_matrix as matrix for SVD decompostion\n",
    "\n",
    "u, sigma, v=randomized_svd(adjacency_matrix, n_components=500, n_iter=10)"
   ]
  },
  {
   "cell_type": "code",
   "execution_count": 11,
   "metadata": {
    "colab": {
     "base_uri": "https://localhost:8080/"
    },
    "executionInfo": {
     "elapsed": 513,
     "status": "ok",
     "timestamp": 1624114843928,
     "user": {
      "displayName": "Preeti Chouhan",
      "photoUrl": "https://lh3.googleusercontent.com/a-/AOh14Gjh3PF7bbZ1quRahFQ2iiw9kMMGvrfX248LWGcGfQ=s64",
      "userId": "02169290060510503265"
     },
     "user_tz": -330
    },
    "id": "S9i0YLYz-U67",
    "outputId": "5cfe21e1-e1cc-4112-a457-6fd954807832"
   },
   "outputs": [
    {
     "name": "stdout",
     "output_type": "stream",
     "text": [
      "The size of U matrix is  (943, 500)\n",
      "The size of Sigma matrix is  (500,)\n",
      "The size of V Transpose is  matrix is  (1681, 500)\n"
     ]
    }
   ],
   "source": [
    "print('The size of U matrix is ', u.shape)\n",
    "print('The size of Sigma matrix is ', sigma.shape)\n",
    "print('The size of V Transpose is  matrix is ', v.T.shape)"
   ]
  },
  {
   "cell_type": "markdown",
   "metadata": {
    "id": "83Vh4NoO_JyU"
   },
   "source": [
    "**Computing mean of ratings**"
   ]
  },
  {
   "cell_type": "code",
   "execution_count": null,
   "metadata": {
    "id": "cBHuCn2QSEnl"
   },
   "outputs": [],
   "source": [
    "def m_u(ratings):\n",
    "    '''In this function, we will compute mean for all the ratings'''\n",
    "    \n",
    "    mean_u=data['rating'].mean(axis=0)\n",
    "\n",
    "    return mean_u"
   ]
  },
  {
   "cell_type": "code",
   "execution_count": null,
   "metadata": {
    "colab": {
     "base_uri": "https://localhost:8080/"
    },
    "executionInfo": {
     "elapsed": 14,
     "status": "ok",
     "timestamp": 1624096091355,
     "user": {
      "displayName": "Preeti Chouhan",
      "photoUrl": "https://lh3.googleusercontent.com/a-/AOh14Gjh3PF7bbZ1quRahFQ2iiw9kMMGvrfX248LWGcGfQ=s64",
      "userId": "02169290060510503265"
     },
     "user_tz": -330
    },
    "id": "iu1nn-1x3ebp",
    "outputId": "1cd8e7d4-5c02-43bc-a556-be5953db420b"
   },
   "outputs": [
    {
     "name": "stdout",
     "output_type": "stream",
     "text": [
      "3.529480398257623\n"
     ]
    }
   ],
   "source": [
    "mu=m_u(data['rating'])\n",
    "print(mu)"
   ]
  },
  {
   "cell_type": "markdown",
   "metadata": {
    "id": "qSvAW1X94g3G"
   },
   "source": [
    "**Initialize $B_{i}$ and $C_{j}$**"
   ]
  },
  {
   "cell_type": "code",
   "execution_count": null,
   "metadata": {
    "id": "AyEJqPka4lBW"
   },
   "outputs": [],
   "source": [
    "def initialize(dim):\n",
    "    '''In this function, we will initialize bias value 'B' and 'C'.'''\n",
    "    # initalize the value to zeros \n",
    "    # return output as a list of zeros \n",
    "    vec=[0]*dim\n",
    "  \n",
    "    return vec "
   ]
  },
  {
   "cell_type": "code",
   "execution_count": null,
   "metadata": {
    "id": "Nlae9QAQ43Xz"
   },
   "outputs": [],
   "source": [
    "dim= adjacency_matrix.shape[0]\n",
    "b_i=initialize(dim)\n"
   ]
  },
  {
   "cell_type": "code",
   "execution_count": null,
   "metadata": {
    "id": "rwuopn4HoEbP"
   },
   "outputs": [],
   "source": [
    "dim= adjacency_matrix.shape[1]\n",
    "c_j=initialize(dim)"
   ]
  },
  {
   "cell_type": "markdown",
   "metadata": {
    "id": "DTDK4ZR18MrZ"
   },
   "source": [
    "**Compute dL/db_i**"
   ]
  },
  {
   "cell_type": "code",
   "execution_count": null,
   "metadata": {
    "id": "3NFzVC1N8S4L"
   },
   "outputs": [],
   "source": [
    "def derivative_db(user_id,item_id,rating,U,V,mu,alpha):\n",
    "    '''In this function, we will compute dL/db_i'''\n",
    "\n",
    "    reg= 2 * alpha * ( b_i[user_id] )\n",
    "    loss= 2 * ( rating - mu - b_i[user_id] - c_j[item_id] - np.dot( U[user_id] , V[:,item_id].T ) )\n",
    "    db=reg-loss\n",
    "\n",
    "    return db\n"
   ]
  },
  {
   "cell_type": "markdown",
   "metadata": {
    "id": "1Kp0hC_b9v60"
   },
   "source": [
    "**Compute dL/dc_j**"
   ]
  },
  {
   "cell_type": "code",
   "execution_count": null,
   "metadata": {
    "id": "FAtSYMrc9UqJ"
   },
   "outputs": [],
   "source": [
    "def derivative_dc(user_id,item_id,rating,U,V,mu, alpha):\n",
    "    '''In this function, we will compute dL/dc_j'''\n",
    "\n",
    "    reg1= 2 * alpha * ( c_j[user_id] )\n",
    "    loss1= 2 * ( rating - mu - b_i[user_id] - c_j[item_id] - np.dot( U[user_id] , V[:,item_id].T ) )\n",
    "    dc=reg1-loss1 \n",
    "\n",
    "    return dc \n"
   ]
  },
  {
   "cell_type": "markdown",
   "metadata": {
    "id": "lg5XNbDWCIKI"
   },
   "source": [
    "**Compute MSE (mean squared error) for predicted ratings**"
   ]
  },
  {
   "cell_type": "code",
   "execution_count": null,
   "metadata": {
    "colab": {
     "base_uri": "https://localhost:8080/"
    },
    "executionInfo": {
     "elapsed": 74039,
     "status": "ok",
     "timestamp": 1624103701879,
     "user": {
      "displayName": "Preeti Chouhan",
      "photoUrl": "https://lh3.googleusercontent.com/a-/AOh14Gjh3PF7bbZ1quRahFQ2iiw9kMMGvrfX248LWGcGfQ=s64",
      "userId": "02169290060510503265"
     },
     "user_tz": -330
    },
    "id": "kiKj-M6d2a-Y",
    "outputId": "478970f1-ce86-4250-8206-66f852a4f022"
   },
   "outputs": [
    {
     "name": "stdout",
     "output_type": "stream",
     "text": [
      "Epoch number 0\n",
      "Epoch number 1\n",
      "Epoch number 2\n",
      "Epoch number 3\n",
      "Epoch number 4\n",
      "Epoch number 5\n",
      "Epoch number 6\n",
      "Epoch number 7\n",
      "Epoch number 8\n",
      "Epoch number 9\n",
      "Epoch number 10\n",
      "Epoch number 11\n",
      "Epoch number 12\n",
      "Epoch number 13\n",
      "Epoch number 14\n",
      "\n",
      "\n",
      "The minimum value of MSE is  0.8328758482612092\n"
     ]
    }
   ],
   "source": [
    "learning_rate=0.001\n",
    "alpha=0.01\n",
    "epochs=15\n",
    "mse_list=[]\n",
    "\n",
    "#initializing the weights\n",
    "b_i=initialize(adjacency_matrix.shape[0])\n",
    "c_j=initialize(adjacency_matrix.shape[1])\n",
    "\n",
    "for epoch in range(epochs):\n",
    "  print('Epoch number',epoch)\n",
    "  #storing the predicted values \n",
    "  y_predict_list=[]\n",
    "  #storing actual ratings\n",
    "  y_actual=[] \n",
    "\n",
    "  #updating weight using SGD \n",
    "  #for each user_id and movie_id pair\n",
    "  for user_id, item_id in zip(*adjacency_matrix.nonzero()):\n",
    "     \n",
    "    rating = adjacency_matrix[user_id , item_id]\n",
    "    #calculating derivatives for weights updates\n",
    "    db = derivative_db(user_id, item_id, rating , u, v, mu, alpha)\n",
    "    dc = derivative_dc(user_id, item_id, rating , u, v, mu, alpha)\n",
    "\n",
    "    #updating the weights\n",
    "    b_i[user_id] = b_i[user_id] - (learning_rate * db)\n",
    "    c_j[item_id] = c_j[item_id] - (learning_rate * dc)\n",
    "\n",
    "\n",
    "  #predicting the ratings and caculating mean_squared_error\n",
    "  #for each user_id and movie_id pair\n",
    "  for user_id, item_id in zip(*adjacency_matrix.nonzero()):\n",
    "    \n",
    "    y_actual.append( adjacency_matrix[user_id , item_id] )\n",
    "    y_pred = mu + b_i[user_id] + c_j[item_id] + np.dot( u[user_id] , v[:,item_id].T)\n",
    "    y_predict_list.append(y_pred)\n",
    "\n",
    "  mse=mean_squared_error(y_actual, y_predict_list)\n",
    "  mse_list.append(mse)\n",
    "\n",
    "print('\\n\\nThe minimum value of MSE is ', min(mse_list))"
   ]
  },
  {
   "cell_type": "markdown",
   "metadata": {
    "id": "hTXYZFFUVSg5"
   },
   "source": [
    "**Plot epoch number vs MSE**\n",
    "\n",
    "* epoch number on X-axis\n",
    "* MSE on Y-axis"
   ]
  },
  {
   "cell_type": "code",
   "execution_count": null,
   "metadata": {
    "colab": {
     "base_uri": "https://localhost:8080/",
     "height": 621
    },
    "executionInfo": {
     "elapsed": 1007,
     "status": "ok",
     "timestamp": 1624103704952,
     "user": {
      "displayName": "Preeti Chouhan",
      "photoUrl": "https://lh3.googleusercontent.com/a-/AOh14Gjh3PF7bbZ1quRahFQ2iiw9kMMGvrfX248LWGcGfQ=s64",
      "userId": "02169290060510503265"
     },
     "user_tz": -330
    },
    "id": "igkkO3EvVRt6",
    "outputId": "592aa0d2-bf80-464b-a973-070d33fa6144"
   },
   "outputs": [
    {
     "data": {
      "image/png": "[encoded data removed]",
      "text/plain": [
       "<Figure size 720x720 with 1 Axes>"
      ]
     },
     "metadata": {
      "needs_background": "light",
      "tags": []
     },
     "output_type": "display_data"
    }
   ],
   "source": [
    "plt.figure(figsize=(10,10))\n",
    "plt.plot(range(epochs), mse_list, label='mean_squared_error')\n",
    "plt.title('Number of Epochs vs MSE')\n",
    "plt.xlabel('Epoch')\n",
    "plt.ylabel('Mean Squared Error')\n",
    "plt.legend()\n",
    "plt.show()"
   ]
  },
  {
   "cell_type": "markdown",
   "metadata": {
    "id": "QIsh5zrBHsMc"
   },
   "source": [
    "**Observations:** \n",
    "\n",
    "- As the number of epochs increases the Mean Squared Error value decreases.\n",
    "\n",
    "- The minimum value of MSE is 0.832875"
   ]
  },
  {
   "cell_type": "markdown",
   "metadata": {
    "id": "wHbc6BWzFvrA"
   },
   "source": [
    "**Scaling U and V matrix**"
   ]
  },
  {
   "cell_type": "code",
   "execution_count": null,
   "metadata": {
    "id": "qhoaHE0KFJg3"
   },
   "outputs": [],
   "source": [
    "norm1=Normalizer()\n",
    "new_u=norm1.fit_transform(u)\n",
    "\n",
    "norm2=Normalizer()\n",
    "new_v=norm2.fit_transform(v)"
   ]
  },
  {
   "cell_type": "markdown",
   "metadata": {
    "id": "fSHBTxxuF18w"
   },
   "source": [
    "**Checking if MSE value gets affected after scaling U and V matrix**"
   ]
  },
  {
   "cell_type": "code",
   "execution_count": null,
   "metadata": {
    "colab": {
     "base_uri": "https://localhost:8080/"
    },
    "executionInfo": {
     "elapsed": 73548,
     "status": "ok",
     "timestamp": 1624103791985,
     "user": {
      "displayName": "Preeti Chouhan",
      "photoUrl": "https://lh3.googleusercontent.com/a-/AOh14Gjh3PF7bbZ1quRahFQ2iiw9kMMGvrfX248LWGcGfQ=s64",
      "userId": "02169290060510503265"
     },
     "user_tz": -330
    },
    "id": "zSaKXUhmFJ-d",
    "outputId": "4498529c-a1f2-413c-ee31-658a4151e090"
   },
   "outputs": [
    {
     "name": "stdout",
     "output_type": "stream",
     "text": [
      "Epoch number 0\n",
      "Epoch number 1\n",
      "Epoch number 2\n",
      "Epoch number 3\n",
      "Epoch number 4\n",
      "Epoch number 5\n",
      "Epoch number 6\n",
      "Epoch number 7\n",
      "Epoch number 8\n",
      "Epoch number 9\n",
      "Epoch number 10\n",
      "Epoch number 11\n",
      "Epoch number 12\n",
      "Epoch number 13\n",
      "Epoch number 14\n",
      "\n",
      "\n",
      "The minimum value of MSE is  0.824354541350863\n"
     ]
    }
   ],
   "source": [
    "learning_rate=0.001\n",
    "alpha=0.01\n",
    "epochs=15\n",
    "mse_list1=[]\n",
    "\n",
    "#initializing the weights\n",
    "b_i=initialize(adjacency_matrix.shape[0])\n",
    "c_j=initialize(adjacency_matrix.shape[1])\n",
    "\n",
    "for epoch in range(epochs):\n",
    "  print('Epoch number',epoch)\n",
    "  #storing the predicted values \n",
    "  y_predict_list=[]\n",
    "  #storing actual ratings\n",
    "  y_actual=[] \n",
    "\n",
    "  #updating weight using SGD \n",
    "  #for each user_id and movie_id pair\n",
    "  for user_id, item_id in zip(*adjacency_matrix.nonzero()):\n",
    "     \n",
    "    rating = adjacency_matrix[user_id , item_id]\n",
    "    #calculating derivatives for weights updates\n",
    "    db = derivative_db(user_id, item_id, rating , new_u, new_v, mu, alpha)\n",
    "    dc = derivative_dc(user_id, item_id, rating , new_u, new_v, mu, alpha)\n",
    "\n",
    "    #updating the weights\n",
    "    b_i[user_id] = b_i[user_id] - (learning_rate * db)\n",
    "    c_j[item_id] = c_j[item_id] - (learning_rate * dc)\n",
    "\n",
    "\n",
    "  #predicting the ratings and caculating mean_squared_error\n",
    "  #for each user_id and movie_id pair\n",
    "  for user_id, item_id in zip(*adjacency_matrix.nonzero()):\n",
    "    \n",
    "    y_actual.append( adjacency_matrix[user_id , item_id] )\n",
    "    y_pred = mu + b_i[user_id] + c_j[item_id] + np.dot( new_u[user_id] , new_v[:,item_id].T)\n",
    "    y_predict_list.append(y_pred)\n",
    "\n",
    "  mse=mean_squared_error(y_actual, y_predict_list)\n",
    "  mse_list1.append(mse)\n",
    "\n",
    "print('\\n\\nThe minimum value of MSE is ', min(mse_list1))"
   ]
  },
  {
   "cell_type": "code",
   "execution_count": null,
   "metadata": {
    "colab": {
     "base_uri": "https://localhost:8080/",
     "height": 621
    },
    "executionInfo": {
     "elapsed": 1057,
     "status": "ok",
     "timestamp": 1624103826321,
     "user": {
      "displayName": "Preeti Chouhan",
      "photoUrl": "https://lh3.googleusercontent.com/a-/AOh14Gjh3PF7bbZ1quRahFQ2iiw9kMMGvrfX248LWGcGfQ=s64",
      "userId": "02169290060510503265"
     },
     "user_tz": -330
    },
    "id": "tUGINuGGHU7h",
    "outputId": "35d008e0-87e8-4492-d558-b6c8c81758e9"
   },
   "outputs": [
    {
     "data": {
      "image/png": "[encoded data removed]",
      "text/plain": [
       "<Figure size 720x720 with 1 Axes>"
      ]
     },
     "metadata": {
      "needs_background": "light",
      "tags": []
     },
     "output_type": "display_data"
    }
   ],
   "source": [
    "plt.figure(figsize=(10,10))\n",
    "plt.plot(range(epochs), mse_list1, label='mean_squared_error')\n",
    "plt.title('Number of Epochs vs MSE (Scaled U and V)')\n",
    "plt.xlabel('Epoch')\n",
    "plt.ylabel('Mean Squared Error')\n",
    "plt.legend()\n",
    "plt.show()"
   ]
  },
  {
   "cell_type": "markdown",
   "metadata": {
    "id": "FiGgHRaPIbvO"
   },
   "source": [
    "**Observations:** \n",
    "\n",
    "- As the number of epochs increases the Mean Squared Error value decreases.\n",
    "\n",
    "- After scaling the U and V matrix, we can observe a slight decrease in the MSE value.\n",
    "\n",
    "- The minimum value of MSE is 0.82435"
   ]
  },
  {
   "cell_type": "markdown",
   "metadata": {
    "id": "NeWAGkT6C9kq"
   },
   "source": [
    "<br>"
   ]
  },
  {
   "cell_type": "code",
   "execution_count": 12,
   "metadata": {
    "executionInfo": {
     "elapsed": 933,
     "status": "ok",
     "timestamp": 1624114850309,
     "user": {
      "displayName": "Preeti Chouhan",
      "photoUrl": "https://lh3.googleusercontent.com/a-/AOh14Gjh3PF7bbZ1quRahFQ2iiw9kMMGvrfX248LWGcGfQ=s64",
      "userId": "02169290060510503265"
     },
     "user_tz": -330
    },
    "id": "9kl4Ryi_7E_T"
   },
   "outputs": [],
   "source": [
    "#reading the data\n",
    "userdf=pd.read_csv('/content/drive/MyDrive/AAIC Assignments/Assignment15_Recommendations_System_SGD-SVD/user_info.csv.txt')"
   ]
  },
  {
   "cell_type": "code",
   "execution_count": 13,
   "metadata": {
    "colab": {
     "base_uri": "https://localhost:8080/",
     "height": 197
    },
    "executionInfo": {
     "elapsed": 802,
     "status": "ok",
     "timestamp": 1624114852949,
     "user": {
      "displayName": "Preeti Chouhan",
      "photoUrl": "https://lh3.googleusercontent.com/a-/AOh14Gjh3PF7bbZ1quRahFQ2iiw9kMMGvrfX248LWGcGfQ=s64",
      "userId": "02169290060510503265"
     },
     "user_tz": -330
    },
    "id": "c1FTc39gDdti",
    "outputId": "1ac70a4e-da68-4ca8-c752-4509b0e9397c"
   },
   "outputs": [
    {
     "data": {
      "text/html": [
       "<div>\n",
       "<style scoped>\n",
       "    .dataframe tbody tr th:only-of-type {\n",
       "        vertical-align: middle;\n",
       "    }\n",
       "\n",
       "    .dataframe tbody tr th {\n",
       "        vertical-align: top;\n",
       "    }\n",
       "\n",
       "    .dataframe thead th {\n",
       "        text-align: right;\n",
       "    }\n",
       "</style>\n",
       "<table border=\"1\" class=\"dataframe\">\n",
       "  <thead>\n",
       "    <tr style=\"text-align: right;\">\n",
       "      <th></th>\n",
       "      <th>user_id</th>\n",
       "      <th>age</th>\n",
       "      <th>is_male</th>\n",
       "      <th>orig_user_id</th>\n",
       "    </tr>\n",
       "  </thead>\n",
       "  <tbody>\n",
       "    <tr>\n",
       "      <th>0</th>\n",
       "      <td>0</td>\n",
       "      <td>24</td>\n",
       "      <td>1</td>\n",
       "      <td>1</td>\n",
       "    </tr>\n",
       "    <tr>\n",
       "      <th>1</th>\n",
       "      <td>1</td>\n",
       "      <td>53</td>\n",
       "      <td>0</td>\n",
       "      <td>2</td>\n",
       "    </tr>\n",
       "    <tr>\n",
       "      <th>2</th>\n",
       "      <td>2</td>\n",
       "      <td>23</td>\n",
       "      <td>1</td>\n",
       "      <td>3</td>\n",
       "    </tr>\n",
       "    <tr>\n",
       "      <th>3</th>\n",
       "      <td>3</td>\n",
       "      <td>24</td>\n",
       "      <td>1</td>\n",
       "      <td>4</td>\n",
       "    </tr>\n",
       "    <tr>\n",
       "      <th>4</th>\n",
       "      <td>4</td>\n",
       "      <td>33</td>\n",
       "      <td>0</td>\n",
       "      <td>5</td>\n",
       "    </tr>\n",
       "  </tbody>\n",
       "</table>\n",
       "</div>"
      ],
      "text/plain": [
       "   user_id  age  is_male  orig_user_id\n",
       "0        0   24        1             1\n",
       "1        1   53        0             2\n",
       "2        2   23        1             3\n",
       "3        3   24        1             4\n",
       "4        4   33        0             5"
      ]
     },
     "execution_count": 13,
     "metadata": {
      "tags": []
     },
     "output_type": "execute_result"
    }
   ],
   "source": [
    "userdf.head()"
   ]
  },
  {
   "cell_type": "code",
   "execution_count": 14,
   "metadata": {
    "colab": {
     "base_uri": "https://localhost:8080/"
    },
    "executionInfo": {
     "elapsed": 5,
     "status": "ok",
     "timestamp": 1624114854271,
     "user": {
      "displayName": "Preeti Chouhan",
      "photoUrl": "https://lh3.googleusercontent.com/a-/AOh14Gjh3PF7bbZ1quRahFQ2iiw9kMMGvrfX248LWGcGfQ=s64",
      "userId": "02169290060510503265"
     },
     "user_tz": -330
    },
    "id": "f7oBuWpY-xzT",
    "outputId": "8a811d10-9aa1-488d-ec83-ac04d93ed885"
   },
   "outputs": [
    {
     "data": {
      "text/plain": [
       "1    670\n",
       "0    273\n",
       "Name: is_male, dtype: int64"
      ]
     },
     "execution_count": 14,
     "metadata": {
      "tags": []
     },
     "output_type": "execute_result"
    }
   ],
   "source": [
    "userdf['is_male'].value_counts()"
   ]
  },
  {
   "cell_type": "markdown",
   "metadata": {
    "id": "9-OtJDhMDRr1"
   },
   "source": [
    "**Observation:** We have 670 males and 273 non-males users in the list giving ratings"
   ]
  },
  {
   "cell_type": "code",
   "execution_count": 15,
   "metadata": {
    "colab": {
     "base_uri": "https://localhost:8080/"
    },
    "executionInfo": {
     "elapsed": 6,
     "status": "ok",
     "timestamp": 1624114857032,
     "user": {
      "displayName": "Preeti Chouhan",
      "photoUrl": "https://lh3.googleusercontent.com/a-/AOh14Gjh3PF7bbZ1quRahFQ2iiw9kMMGvrfX248LWGcGfQ=s64",
      "userId": "02169290060510503265"
     },
     "user_tz": -330
    },
    "id": "XB3lZ2_j5oOx",
    "outputId": "aadbd2fb-1b15-46d1-8469-6c3e1c2b0865"
   },
   "outputs": [
    {
     "name": "stdout",
     "output_type": "stream",
     "text": [
      "The size of User feature matrix is  (943, 500)\n"
     ]
    }
   ],
   "source": [
    "print('The size of User feature matrix is ', u.shape)"
   ]
  },
  {
   "cell_type": "code",
   "execution_count": 16,
   "metadata": {
    "colab": {
     "base_uri": "https://localhost:8080/"
    },
    "executionInfo": {
     "elapsed": 531,
     "status": "ok",
     "timestamp": 1624114862679,
     "user": {
      "displayName": "Preeti Chouhan",
      "photoUrl": "https://lh3.googleusercontent.com/a-/AOh14Gjh3PF7bbZ1quRahFQ2iiw9kMMGvrfX248LWGcGfQ=s64",
      "userId": "02169290060510503265"
     },
     "user_tz": -330
    },
    "id": "-arlREvX7bhh",
    "outputId": "e09c0290-2041-478f-cc3e-962d7868e16d"
   },
   "outputs": [
    {
     "name": "stdout",
     "output_type": "stream",
     "text": [
      "The length of target variable is  943\n"
     ]
    }
   ],
   "source": [
    "y=userdf['is_male']    #getting the is_male column\n",
    "print('The length of target variable is ', len(y))"
   ]
  },
  {
   "cell_type": "code",
   "execution_count": 18,
   "metadata": {
    "executionInfo": {
     "elapsed": 519,
     "status": "ok",
     "timestamp": 1624114975723,
     "user": {
      "displayName": "Preeti Chouhan",
      "photoUrl": "https://lh3.googleusercontent.com/a-/AOh14Gjh3PF7bbZ1quRahFQ2iiw9kMMGvrfX248LWGcGfQ=s64",
      "userId": "02169290060510503265"
     },
     "user_tz": -330
    },
    "id": "hTGIdWNFyhrc"
   },
   "outputs": [],
   "source": [
    "x=userdf.drop('is_male', axis=1)"
   ]
  },
  {
   "cell_type": "code",
   "execution_count": 19,
   "metadata": {
    "colab": {
     "base_uri": "https://localhost:8080/",
     "height": 197
    },
    "executionInfo": {
     "elapsed": 439,
     "status": "ok",
     "timestamp": 1624114990908,
     "user": {
      "displayName": "Preeti Chouhan",
      "photoUrl": "https://lh3.googleusercontent.com/a-/AOh14Gjh3PF7bbZ1quRahFQ2iiw9kMMGvrfX248LWGcGfQ=s64",
      "userId": "02169290060510503265"
     },
     "user_tz": -330
    },
    "id": "ZdiZoHp7y9qA",
    "outputId": "a7f5e2b0-ff22-4e9c-9e94-2d9d78f80946"
   },
   "outputs": [
    {
     "data": {
      "text/html": [
       "<div>\n",
       "<style scoped>\n",
       "    .dataframe tbody tr th:only-of-type {\n",
       "        vertical-align: middle;\n",
       "    }\n",
       "\n",
       "    .dataframe tbody tr th {\n",
       "        vertical-align: top;\n",
       "    }\n",
       "\n",
       "    .dataframe thead th {\n",
       "        text-align: right;\n",
       "    }\n",
       "</style>\n",
       "<table border=\"1\" class=\"dataframe\">\n",
       "  <thead>\n",
       "    <tr style=\"text-align: right;\">\n",
       "      <th></th>\n",
       "      <th>user_id</th>\n",
       "      <th>age</th>\n",
       "      <th>orig_user_id</th>\n",
       "    </tr>\n",
       "  </thead>\n",
       "  <tbody>\n",
       "    <tr>\n",
       "      <th>0</th>\n",
       "      <td>0</td>\n",
       "      <td>24</td>\n",
       "      <td>1</td>\n",
       "    </tr>\n",
       "    <tr>\n",
       "      <th>1</th>\n",
       "      <td>1</td>\n",
       "      <td>53</td>\n",
       "      <td>2</td>\n",
       "    </tr>\n",
       "    <tr>\n",
       "      <th>2</th>\n",
       "      <td>2</td>\n",
       "      <td>23</td>\n",
       "      <td>3</td>\n",
       "    </tr>\n",
       "    <tr>\n",
       "      <th>3</th>\n",
       "      <td>3</td>\n",
       "      <td>24</td>\n",
       "      <td>4</td>\n",
       "    </tr>\n",
       "    <tr>\n",
       "      <th>4</th>\n",
       "      <td>4</td>\n",
       "      <td>33</td>\n",
       "      <td>5</td>\n",
       "    </tr>\n",
       "  </tbody>\n",
       "</table>\n",
       "</div>"
      ],
      "text/plain": [
       "   user_id  age  orig_user_id\n",
       "0        0   24             1\n",
       "1        1   53             2\n",
       "2        2   23             3\n",
       "3        3   24             4\n",
       "4        4   33             5"
      ]
     },
     "execution_count": 19,
     "metadata": {
      "tags": []
     },
     "output_type": "execute_result"
    }
   ],
   "source": [
    "x.head()"
   ]
  },
  {
   "cell_type": "markdown",
   "metadata": {
    "id": "MM-lXB2h8noY"
   },
   "source": [
    "**now using logistic regression for binary classification**"
   ]
  },
  {
   "cell_type": "code",
   "execution_count": 23,
   "metadata": {
    "colab": {
     "base_uri": "https://localhost:8080/"
    },
    "executionInfo": {
     "elapsed": 515,
     "status": "ok",
     "timestamp": 1624115087135,
     "user": {
      "displayName": "Preeti Chouhan",
      "photoUrl": "https://lh3.googleusercontent.com/a-/AOh14Gjh3PF7bbZ1quRahFQ2iiw9kMMGvrfX248LWGcGfQ=s64",
      "userId": "02169290060510503265"
     },
     "user_tz": -330
    },
    "id": "0_Fi5NBb8CxV",
    "outputId": "dd1b7d29-8e53-4c83-a76d-0cb96cef616a"
   },
   "outputs": [
    {
     "name": "stdout",
     "output_type": "stream",
     "text": [
      "-- Epoch 1\n",
      "Norm: 68.21, NNZs: 500, Bias: -2.781939, T: 943, Avg. loss: 1.443744\n",
      "Total training time: 0.00 seconds.\n",
      "-- Epoch 2\n",
      "Norm: 61.31, NNZs: 500, Bias: -4.143720, T: 1886, Avg. loss: 0.612474\n",
      "Total training time: 0.00 seconds.\n",
      "-- Epoch 3\n",
      "Norm: 55.96, NNZs: 500, Bias: 3.054253, T: 2829, Avg. loss: 0.451985\n",
      "Total training time: 0.01 seconds.\n",
      "-- Epoch 4\n",
      "Norm: 52.39, NNZs: 500, Bias: 2.300667, T: 3772, Avg. loss: 0.395306\n",
      "Total training time: 0.01 seconds.\n",
      "-- Epoch 5\n",
      "Norm: 50.27, NNZs: 500, Bias: 1.475401, T: 4715, Avg. loss: 0.352301\n",
      "Total training time: 0.01 seconds.\n",
      "-- Epoch 6\n",
      "Norm: 48.42, NNZs: 500, Bias: 1.394619, T: 5658, Avg. loss: 0.342470\n",
      "Total training time: 0.01 seconds.\n",
      "-- Epoch 7\n",
      "Norm: 47.17, NNZs: 500, Bias: 0.628576, T: 6601, Avg. loss: 0.336257\n",
      "Total training time: 0.01 seconds.\n",
      "-- Epoch 8\n",
      "Norm: 46.21, NNZs: 500, Bias: 1.435296, T: 7544, Avg. loss: 0.334987\n",
      "Total training time: 0.02 seconds.\n",
      "-- Epoch 9\n",
      "Norm: 45.51, NNZs: 500, Bias: 0.538650, T: 8487, Avg. loss: 0.329873\n",
      "Total training time: 0.02 seconds.\n",
      "-- Epoch 10\n",
      "Norm: 44.98, NNZs: 500, Bias: 0.486217, T: 9430, Avg. loss: 0.324973\n",
      "Total training time: 0.02 seconds.\n",
      "-- Epoch 11\n",
      "Norm: 44.52, NNZs: 500, Bias: 1.034014, T: 10373, Avg. loss: 0.323127\n",
      "Total training time: 0.02 seconds.\n",
      "-- Epoch 12\n",
      "Norm: 44.13, NNZs: 500, Bias: 1.555754, T: 11316, Avg. loss: 0.319892\n",
      "Total training time: 0.02 seconds.\n",
      "-- Epoch 13\n",
      "Norm: 43.74, NNZs: 500, Bias: 0.050144, T: 12259, Avg. loss: 0.316973\n",
      "Total training time: 0.02 seconds.\n",
      "-- Epoch 14\n",
      "Norm: 43.50, NNZs: 500, Bias: 0.582980, T: 13202, Avg. loss: 0.320325\n",
      "Total training time: 0.03 seconds.\n",
      "-- Epoch 15\n",
      "Norm: 43.30, NNZs: 500, Bias: 0.983327, T: 14145, Avg. loss: 0.318766\n",
      "Total training time: 0.03 seconds.\n",
      "-- Epoch 16\n",
      "Norm: 43.07, NNZs: 500, Bias: 1.798196, T: 15088, Avg. loss: 0.316245\n",
      "Total training time: 0.03 seconds.\n",
      "-- Epoch 17\n",
      "Norm: 42.92, NNZs: 500, Bias: 1.449839, T: 16031, Avg. loss: 0.315246\n",
      "Total training time: 0.03 seconds.\n",
      "-- Epoch 18\n",
      "Norm: 42.81, NNZs: 500, Bias: 1.225143, T: 16974, Avg. loss: 0.314630\n",
      "Total training time: 0.03 seconds.\n",
      "Convergence after 18 epochs took 0.03 seconds\n"
     ]
    },
    {
     "data": {
      "text/plain": [
       "SGDClassifier(alpha=0.0001, average=False, class_weight=None,\n",
       "              early_stopping=False, epsilon=0.1, eta0=0.001, fit_intercept=True,\n",
       "              l1_ratio=0.15, learning_rate='optimal', loss='log', max_iter=1000,\n",
       "              n_iter_no_change=5, n_jobs=None, penalty='l2', power_t=0.5,\n",
       "              random_state=None, shuffle=True, tol=0.001,\n",
       "              validation_fraction=0.1, verbose=2, warm_start=False)"
      ]
     },
     "execution_count": 23,
     "metadata": {
      "tags": []
     },
     "output_type": "execute_result"
    }
   ],
   "source": [
    "#using SGDClassifier with log loss\n",
    "clf = SGDClassifier(learning_rate='optimal',loss='log',penalty='l2', alpha=0.0001, verbose=2, eta0=0.001)\n",
    "clf.fit(u,y)"
   ]
  },
  {
   "cell_type": "code",
   "execution_count": 24,
   "metadata": {
    "executionInfo": {
     "elapsed": 519,
     "status": "ok",
     "timestamp": 1624115090002,
     "user": {
      "displayName": "Preeti Chouhan",
      "photoUrl": "https://lh3.googleusercontent.com/a-/AOh14Gjh3PF7bbZ1quRahFQ2iiw9kMMGvrfX248LWGcGfQ=s64",
      "userId": "02169290060510503265"
     },
     "user_tz": -330
    },
    "id": "Dgzvxljk-H5X"
   },
   "outputs": [],
   "source": [
    "#predicting whether a given user from the user features matrix is male or not \n",
    "y_pred = clf.predict(u)"
   ]
  },
  {
   "cell_type": "code",
   "execution_count": null,
   "metadata": {
    "colab": {
     "base_uri": "https://localhost:8080/"
    },
    "executionInfo": {
     "elapsed": 766,
     "status": "ok",
     "timestamp": 1624101906771,
     "user": {
      "displayName": "Preeti Chouhan",
      "photoUrl": "https://lh3.googleusercontent.com/a-/AOh14Gjh3PF7bbZ1quRahFQ2iiw9kMMGvrfX248LWGcGfQ=s64",
      "userId": "02169290060510503265"
     },
     "user_tz": -330
    },
    "id": "35yaXIYf-7tR",
    "outputId": "449b913e-8b93-4da7-a307-acc3f1e3182b"
   },
   "outputs": [
    {
     "name": "stdout",
     "output_type": "stream",
     "text": [
      "The number of male count is  717\n",
      "The number of not male count is  226\n"
     ]
    }
   ],
   "source": [
    "male_count=0\n",
    "not_male_count=0\n",
    "\n",
    "for i in y_pred:\n",
    "  if i==1:\n",
    "    male_count+=1\n",
    "  else:\n",
    "    not_male_count+=1\n",
    "\n",
    "print('The number of male count is ', male_count)\n",
    "print('The number of not male count is ', not_male_count)"
   ]
  },
  {
   "cell_type": "markdown",
   "metadata": {
    "id": "caTsvNE9Itdb"
   },
   "source": [
    "**Observations:** We can observe that User Features that we have learnt on the basis of the ratings given for movies are able to classify gender."
   ]
  },
  {
   "cell_type": "markdown",
   "metadata": {
    "id": "EVBDVFOsJsKX"
   },
   "source": [
    "### Summary"
   ]
  },
  {
   "cell_type": "markdown",
   "metadata": {
    "id": "INm1w-i6JyQF"
   },
   "source": [
    "- We can learn user and movie matrix using matrix Factorisation ( Support Vector Decomposition) Truncated SVD\n",
    "\n",
    "- We have B and C vectors as well optimised with help fo SGD\n",
    "\n",
    "- Using all 4 features\\weights learnt, ratings are predicted.\n",
    "\n",
    "- As the number of epochs increases the Mean Squared Error value decreases.\n",
    "\n",
    "- The minimum value of MSE is 0.832875 for U and V without scalling.\n",
    "\n",
    "- After scaling U and V, we can observe a slight change in the minimum value of MSE with 0.82435.\n",
    "\n",
    "- We can have also checked if Computed User feature matrix is gender biased and turns out it is. The number of features predicted as males are 717 and 226 as non-males. "
   ]
  }
 ],
 "metadata": {
  "accelerator": "GPU",
  "colab": {
   "collapsed_sections": [],
   "machine_shape": "hm",
   "name": "Recommendation_system_assignment.ipynb",
   "provenance": []
  },
  "kernelspec": {
   "display_name": "Python 3",
   "language": "python",
   "name": "python3"
  },
  "language_info": {
   "codemirror_mode": {
    "name": "ipython",
    "version": 3
   },
   "file_extension": ".py",
   "mimetype": "text/x-python",
   "name": "python",
   "nbconvert_exporter": "python",
   "pygments_lexer": "ipython3",
   "version": "3.8.5"
  }
 },
 "nbformat": 4,
 "nbformat_minor": 1
}
